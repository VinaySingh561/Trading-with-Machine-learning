{
 "cells": [
  {
   "cell_type": "markdown",
   "id": "6c934d4c",
   "metadata": {},
   "source": [
    "In this project we will join four different stocks Adj Close prices."
   ]
  },
  {
   "cell_type": "code",
   "execution_count": 2,
   "id": "9c5c582e",
   "metadata": {},
   "outputs": [],
   "source": [
    "import pandas as pd\n",
    "import datetime as datetime\n",
    "import matplotlib.pyplot as plt\n"
   ]
  },
  {
   "cell_type": "markdown",
   "id": "bd69ebac",
   "metadata": {},
   "source": [
    "Creating daterange "
   ]
  },
  {
   "cell_type": "code",
   "execution_count": 16,
   "id": "658f3c47",
   "metadata": {},
   "outputs": [],
   "source": [
    "start_date = datetime.datetime(2022,1,1)\n",
    "end_date = datetime.datetime(2022,4,4)\n",
    "dates = pd.date_range(start_date, end_date)\n",
    "dates_data = pd.DataFrame(index = dates)"
   ]
  },
  {
   "cell_type": "code",
   "execution_count": 17,
   "id": "cd1c89f1",
   "metadata": {},
   "outputs": [],
   "source": [
    "tickers = ['AAPL', \"MSFT\", \"GOOGL\", \"TSLA\"]\n",
    "data = pd.DataFrame()\n",
    "for i in tickers:\n",
    "    df = pd.read_csv(i , parse_dates = True , index_col = 'Date')\n",
    "    data[i] = df[\"Adj Close\"]"
   ]
  },
  {
   "cell_type": "code",
   "execution_count": 18,
   "id": "4dc07aa9",
   "metadata": {},
   "outputs": [
    {
     "data": {
      "text/html": [
       "<div>\n",
       "<style scoped>\n",
       "    .dataframe tbody tr th:only-of-type {\n",
       "        vertical-align: middle;\n",
       "    }\n",
       "\n",
       "    .dataframe tbody tr th {\n",
       "        vertical-align: top;\n",
       "    }\n",
       "\n",
       "    .dataframe thead th {\n",
       "        text-align: right;\n",
       "    }\n",
       "</style>\n",
       "<table border=\"1\" class=\"dataframe\">\n",
       "  <thead>\n",
       "    <tr style=\"text-align: right;\">\n",
       "      <th></th>\n",
       "      <th>AAPL</th>\n",
       "      <th>MSFT</th>\n",
       "      <th>GOOGL</th>\n",
       "      <th>TSLA</th>\n",
       "    </tr>\n",
       "    <tr>\n",
       "      <th>Date</th>\n",
       "      <th></th>\n",
       "      <th></th>\n",
       "      <th></th>\n",
       "      <th></th>\n",
       "    </tr>\n",
       "  </thead>\n",
       "  <tbody>\n",
       "    <tr>\n",
       "      <th>2021-04-05</th>\n",
       "      <td>125.156128</td>\n",
       "      <td>247.057617</td>\n",
       "      <td>2218.959961</td>\n",
       "      <td>691.049988</td>\n",
       "    </tr>\n",
       "    <tr>\n",
       "      <th>2021-04-06</th>\n",
       "      <td>125.464302</td>\n",
       "      <td>245.857376</td>\n",
       "      <td>2209.260010</td>\n",
       "      <td>691.619995</td>\n",
       "    </tr>\n",
       "    <tr>\n",
       "      <th>2021-04-07</th>\n",
       "      <td>127.144318</td>\n",
       "      <td>247.880905</td>\n",
       "      <td>2239.030029</td>\n",
       "      <td>670.969971</td>\n",
       "    </tr>\n",
       "    <tr>\n",
       "      <th>2021-04-08</th>\n",
       "      <td>129.589798</td>\n",
       "      <td>251.203827</td>\n",
       "      <td>2250.429932</td>\n",
       "      <td>683.799988</td>\n",
       "    </tr>\n",
       "    <tr>\n",
       "      <th>2021-04-09</th>\n",
       "      <td>132.214188</td>\n",
       "      <td>253.782837</td>\n",
       "      <td>2270.669922</td>\n",
       "      <td>677.020020</td>\n",
       "    </tr>\n",
       "  </tbody>\n",
       "</table>\n",
       "</div>"
      ],
      "text/plain": [
       "                  AAPL        MSFT        GOOGL        TSLA\n",
       "Date                                                       \n",
       "2021-04-05  125.156128  247.057617  2218.959961  691.049988\n",
       "2021-04-06  125.464302  245.857376  2209.260010  691.619995\n",
       "2021-04-07  127.144318  247.880905  2239.030029  670.969971\n",
       "2021-04-08  129.589798  251.203827  2250.429932  683.799988\n",
       "2021-04-09  132.214188  253.782837  2270.669922  677.020020"
      ]
     },
     "execution_count": 18,
     "metadata": {},
     "output_type": "execute_result"
    }
   ],
   "source": [
    "data.head()"
   ]
  },
  {
   "cell_type": "code",
   "execution_count": 20,
   "id": "8fccfc7e",
   "metadata": {},
   "outputs": [],
   "source": [
    "final_data = dates_data.join(data)"
   ]
  },
  {
   "cell_type": "code",
   "execution_count": 21,
   "id": "f26a0120",
   "metadata": {},
   "outputs": [
    {
     "data": {
      "text/html": [
       "<div>\n",
       "<style scoped>\n",
       "    .dataframe tbody tr th:only-of-type {\n",
       "        vertical-align: middle;\n",
       "    }\n",
       "\n",
       "    .dataframe tbody tr th {\n",
       "        vertical-align: top;\n",
       "    }\n",
       "\n",
       "    .dataframe thead th {\n",
       "        text-align: right;\n",
       "    }\n",
       "</style>\n",
       "<table border=\"1\" class=\"dataframe\">\n",
       "  <thead>\n",
       "    <tr style=\"text-align: right;\">\n",
       "      <th></th>\n",
       "      <th>AAPL</th>\n",
       "      <th>MSFT</th>\n",
       "      <th>GOOGL</th>\n",
       "      <th>TSLA</th>\n",
       "    </tr>\n",
       "  </thead>\n",
       "  <tbody>\n",
       "    <tr>\n",
       "      <th>2022-01-01</th>\n",
       "      <td>NaN</td>\n",
       "      <td>NaN</td>\n",
       "      <td>NaN</td>\n",
       "      <td>NaN</td>\n",
       "    </tr>\n",
       "    <tr>\n",
       "      <th>2022-01-02</th>\n",
       "      <td>NaN</td>\n",
       "      <td>NaN</td>\n",
       "      <td>NaN</td>\n",
       "      <td>NaN</td>\n",
       "    </tr>\n",
       "    <tr>\n",
       "      <th>2022-01-03</th>\n",
       "      <td>181.778397</td>\n",
       "      <td>334.059265</td>\n",
       "      <td>2899.830078</td>\n",
       "      <td>1199.780029</td>\n",
       "    </tr>\n",
       "    <tr>\n",
       "      <th>2022-01-04</th>\n",
       "      <td>179.471344</td>\n",
       "      <td>328.331116</td>\n",
       "      <td>2887.989990</td>\n",
       "      <td>1149.589966</td>\n",
       "    </tr>\n",
       "    <tr>\n",
       "      <th>2022-01-05</th>\n",
       "      <td>174.697418</td>\n",
       "      <td>315.727173</td>\n",
       "      <td>2755.500000</td>\n",
       "      <td>1088.119995</td>\n",
       "    </tr>\n",
       "  </tbody>\n",
       "</table>\n",
       "</div>"
      ],
      "text/plain": [
       "                  AAPL        MSFT        GOOGL         TSLA\n",
       "2022-01-01         NaN         NaN          NaN          NaN\n",
       "2022-01-02         NaN         NaN          NaN          NaN\n",
       "2022-01-03  181.778397  334.059265  2899.830078  1199.780029\n",
       "2022-01-04  179.471344  328.331116  2887.989990  1149.589966\n",
       "2022-01-05  174.697418  315.727173  2755.500000  1088.119995"
      ]
     },
     "execution_count": 21,
     "metadata": {},
     "output_type": "execute_result"
    }
   ],
   "source": [
    "final_data.head()"
   ]
  },
  {
   "cell_type": "code",
   "execution_count": 22,
   "id": "2dc32eb8",
   "metadata": {},
   "outputs": [],
   "source": [
    "final_data.dropna(inplace = True)"
   ]
  },
  {
   "cell_type": "code",
   "execution_count": 23,
   "id": "9fceefb1",
   "metadata": {},
   "outputs": [
    {
     "data": {
      "text/plain": [
       "AAPL     0\n",
       "MSFT     0\n",
       "GOOGL    0\n",
       "TSLA     0\n",
       "dtype: int64"
      ]
     },
     "execution_count": 23,
     "metadata": {},
     "output_type": "execute_result"
    }
   ],
   "source": [
    "final_data.isna().sum()"
   ]
  },
  {
   "cell_type": "code",
   "execution_count": null,
   "id": "94d00493",
   "metadata": {},
   "outputs": [],
   "source": []
  }
 ],
 "metadata": {
  "kernelspec": {
   "display_name": "Python 3",
   "language": "python",
   "name": "python3"
  },
  "language_info": {
   "codemirror_mode": {
    "name": "ipython",
    "version": 3
   },
   "file_extension": ".py",
   "mimetype": "text/x-python",
   "name": "python",
   "nbconvert_exporter": "python",
   "pygments_lexer": "ipython3",
   "version": "3.8.8"
  }
 },
 "nbformat": 4,
 "nbformat_minor": 5
}
